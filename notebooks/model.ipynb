{
 "cells": [
  {
   "cell_type": "code",
   "execution_count": 1,
   "metadata": {},
   "outputs": [],
   "source": [
    "from PIL import Image\n",
    "from keras.models import Sequential\n",
    "from keras.preprocessing.image import ImageDataGenerator\n",
    "from keras.layers import Conv2D, MaxPooling2D, Flatten, Dense,Dropout\n",
    "import sys\n",
    "sys.modules['Image'] = Image"
   ]
  },
  {
   "cell_type": "code",
   "execution_count": 2,
   "metadata": {},
   "outputs": [],
   "source": [
    "model = Sequential([\n",
    "    Conv2D(100, (3,3), activation='relu', input_shape=(150, 150, 3)),\n",
    "    MaxPooling2D(2,2),\n",
    "    \n",
    "    Conv2D(100, (3,3), activation='relu'),\n",
    "    MaxPooling2D(2,2),\n",
    "    \n",
    "    Flatten(),\n",
    "    Dropout(0.5),\n",
    "    Dense(50, activation='relu'),\n",
    "    Dense(2, activation='softmax')\n",
    "])\n",
    "model.compile(optimizer='adam', loss='binary_crossentropy', metrics=['acc'])"
   ]
  },
  {
   "cell_type": "code",
   "execution_count": 3,
   "metadata": {},
   "outputs": [
    {
     "name": "stdout",
     "output_type": "stream",
     "text": [
      "Found 1132 images belonging to 2 classes.\n",
      "Found 376 images belonging to 2 classes.\n"
     ]
    }
   ],
   "source": [
    "train_data_generator = ImageDataGenerator(rescale=1.0/255,\n",
    "                                        rotation_range=40,\n",
    "                                        width_shift_range=0.2,\n",
    "                                        height_shift_range=0.2,\n",
    "                                        shear_range=0.2,\n",
    "                                        zoom_range=0.2,\n",
    "                                        horizontal_flip=True,\n",
    "                                        fill_mode='nearest')\n",
    "\n",
    "train_generator = train_data_generator.flow_from_directory(\"../data/train\", batch_size=10, target_size=(150, 150))\n",
    "\n",
    "test_data_generator = ImageDataGenerator(rescale=1.0/255)\n",
    "test_generator = test_data_generator.flow_from_directory('../data/test', batch_size=10, target_size=(150, 150))"
   ]
  },
  {
   "cell_type": "code",
   "execution_count": 4,
   "outputs": [
    {
     "name": "stdout",
     "output_type": "stream",
     "text": [
      "Epoch 1/10\n",
      "114/114 [==============================] - 41s 354ms/step - loss: 0.5022 - acc: 0.7774 - val_loss: 0.2572 - val_acc: 0.9202\n",
      "Epoch 2/10\n",
      "114/114 [==============================] - 43s 376ms/step - loss: 0.3271 - acc: 0.8657 - val_loss: 0.1854 - val_acc: 0.9495\n",
      "Epoch 3/10\n",
      "114/114 [==============================] - 41s 356ms/step - loss: 0.3208 - acc: 0.8675 - val_loss: 0.2217 - val_acc: 0.9415\n",
      "Epoch 4/10\n",
      "114/114 [==============================] - 38s 334ms/step - loss: 0.2823 - acc: 0.8993 - val_loss: 0.1652 - val_acc: 0.9468\n",
      "Epoch 5/10\n",
      "114/114 [==============================] - 38s 336ms/step - loss: 0.2663 - acc: 0.8834 - val_loss: 0.1502 - val_acc: 0.9415\n",
      "Epoch 6/10\n",
      "114/114 [==============================] - 38s 331ms/step - loss: 0.2475 - acc: 0.8993 - val_loss: 0.1255 - val_acc: 0.9574\n",
      "Epoch 7/10\n",
      "114/114 [==============================] - 40s 349ms/step - loss: 0.2687 - acc: 0.8922 - val_loss: 0.1540 - val_acc: 0.9388\n",
      "Epoch 8/10\n",
      "114/114 [==============================] - 38s 336ms/step - loss: 0.2455 - acc: 0.9028 - val_loss: 0.1400 - val_acc: 0.9468\n",
      "Epoch 9/10\n",
      "114/114 [==============================] - 39s 342ms/step - loss: 0.2152 - acc: 0.9187 - val_loss: 0.1553 - val_acc: 0.9362\n",
      "Epoch 10/10\n",
      "114/114 [==============================] - 41s 357ms/step - loss: 0.2144 - acc: 0.9161 - val_loss: 0.1097 - val_acc: 0.9654\n"
     ]
    }
   ],
   "source": [
    "history = model.fit(train_generator, epochs=10,\n",
    "                              validation_data=test_generator)"
   ],
   "metadata": {
    "collapsed": false,
    "pycharm": {
     "name": "#%%\n"
    }
   }
  },
  {
   "cell_type": "code",
   "execution_count": 7,
   "outputs": [],
   "source": [
    "model.save(\"../model-010.h5\")"
   ],
   "metadata": {
    "collapsed": false,
    "pycharm": {
     "name": "#%%\n"
    }
   }
  }
 ],
 "metadata": {
  "interpreter": {
   "hash": "23d6ab5291bbeda1347887015d98d69283751eee54a7fd8476d8c9a46c25d5d3"
  },
  "kernelspec": {
   "display_name": "Python 3.8.5 ('base')",
   "language": "python",
   "name": "python3"
  },
  "language_info": {
   "codemirror_mode": {
    "name": "ipython",
    "version": 3
   },
   "file_extension": ".py",
   "mimetype": "text/x-python",
   "name": "python",
   "nbconvert_exporter": "python",
   "pygments_lexer": "ipython3",
   "version": "3.8.5"
  },
  "orig_nbformat": 4
 },
 "nbformat": 4,
 "nbformat_minor": 2
}