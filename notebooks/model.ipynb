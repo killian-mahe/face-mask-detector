{
 "cells": [
  {
   "cell_type": "code",
   "execution_count": 1,
   "metadata": {},
   "outputs": [],
   "source": [
    "import sys\n",
    "\n",
    "from PIL import Image\n",
    "from keras.callbacks import ModelCheckpoint\n",
    "from keras.layers import Conv2D, MaxPooling2D, Flatten, Dense, Dropout\n",
    "from keras.models import Sequential\n",
    "from keras.preprocessing.image import ImageDataGenerator\n",
    "\n",
    "sys.modules['Image'] = Image"
   ]
  },
  {
   "cell_type": "code",
   "execution_count": 2,
   "metadata": {},
   "outputs": [],
   "source": [
    "model = Sequential([\n",
    "    Conv2D(100, (3, 3), activation='relu', input_shape=(150, 150, 3)),\n",
    "    MaxPooling2D(2, 2),\n",
    "\n",
    "    Conv2D(100, (3, 3), activation='relu'),\n",
    "    MaxPooling2D(2, 2),\n",
    "\n",
    "    Flatten(),\n",
    "    Dropout(0.5),\n",
    "    Dense(50, activation='relu'),\n",
    "    Dense(2, activation='softmax')\n",
    "])\n",
    "model.compile(optimizer='adam', loss='binary_crossentropy', metrics=['acc'])"
   ]
  },
  {
   "cell_type": "code",
   "execution_count": 3,
   "metadata": {},
   "outputs": [
    {
     "name": "stdout",
     "output_type": "stream",
     "text": [
      "Found 1132 images belonging to 2 classes.\n",
      "Found 376 images belonging to 2 classes.\n"
     ]
    }
   ],
   "source": [
    "train_data_generator = ImageDataGenerator(rescale=1.0 / 255,\n",
    "                                          rotation_range=40,\n",
    "                                          width_shift_range=0.2,\n",
    "                                          height_shift_range=0.2,\n",
    "                                          shear_range=0.2,\n",
    "                                          zoom_range=0.2,\n",
    "                                          horizontal_flip=True,\n",
    "                                          fill_mode='nearest')\n",
    "\n",
    "train_generator = train_data_generator.flow_from_directory(\"../data/train\", batch_size=10, target_size=(150, 150))\n",
    "\n",
    "test_data_generator = ImageDataGenerator(rescale=1.0 / 255)\n",
    "test_generator = test_data_generator.flow_from_directory('../data/test', batch_size=10, target_size=(150, 150))"
   ]
  },
  {
   "cell_type": "code",
   "execution_count": 4,
   "outputs": [],
   "source": [
    "checkpoint = ModelCheckpoint('model2-{epoch:03d}.model', monitor='val_loss', verbose=0, save_best_only=True,\n",
    "                             mode='auto')"
   ],
   "metadata": {
    "collapsed": false,
    "pycharm": {
     "name": "#%%\n"
    }
   }
  },
  {
   "cell_type": "code",
   "execution_count": 5,
   "outputs": [
    {
     "name": "stdout",
     "output_type": "stream",
     "text": [
      "Epoch 1/10\n",
      "114/114 [==============================] - 40s 345ms/step - loss: 0.7205 - acc: 0.5521 - val_loss: 0.5621 - val_acc: 0.6755\n",
      "Epoch 2/10\n",
      "114/114 [==============================] - 37s 326ms/step - loss: 0.5344 - acc: 0.7288 - val_loss: 0.4365 - val_acc: 0.8644\n",
      "Epoch 3/10\n",
      "114/114 [==============================] - 38s 332ms/step - loss: 0.3450 - acc: 0.8587 - val_loss: 0.1716 - val_acc: 0.9388\n",
      "Epoch 4/10\n",
      "114/114 [==============================] - 37s 321ms/step - loss: 0.2662 - acc: 0.8843 - val_loss: 0.1443 - val_acc: 0.9548\n",
      "Epoch 5/10\n",
      "114/114 [==============================] - 37s 326ms/step - loss: 0.2372 - acc: 0.9072 - val_loss: 0.1332 - val_acc: 0.9521\n",
      "Epoch 6/10\n",
      "114/114 [==============================] - 37s 323ms/step - loss: 0.2384 - acc: 0.9072 - val_loss: 0.1550 - val_acc: 0.9521\n",
      "Epoch 7/10\n",
      "114/114 [==============================] - 39s 339ms/step - loss: 0.2408 - acc: 0.9028 - val_loss: 0.1208 - val_acc: 0.9628\n",
      "Epoch 8/10\n",
      "114/114 [==============================] - 37s 324ms/step - loss: 0.1847 - acc: 0.9329 - val_loss: 0.1290 - val_acc: 0.9548\n",
      "Epoch 9/10\n",
      "114/114 [==============================] - 37s 326ms/step - loss: 0.1788 - acc: 0.9355 - val_loss: 0.1212 - val_acc: 0.9548\n",
      "Epoch 10/10\n",
      "114/114 [==============================] - 37s 325ms/step - loss: 0.1856 - acc: 0.9364 - val_loss: 0.1389 - val_acc: 0.9495\n"
     ]
    }
   ],
   "source": [
    "history = model.fit(train_generator, epochs=10,\n",
    "                    validation_data=test_generator)"
   ],
   "metadata": {
    "collapsed": false,
    "pycharm": {
     "name": "#%%\n"
    }
   }
  }
 ],
 "metadata": {
  "interpreter": {
   "hash": "23d6ab5291bbeda1347887015d98d69283751eee54a7fd8476d8c9a46c25d5d3"
  },
  "kernelspec": {
   "display_name": "Python 3.8.5 ('base')",
   "language": "python",
   "name": "python3"
  },
  "language_info": {
   "codemirror_mode": {
    "name": "ipython",
    "version": 3
   },
   "file_extension": ".py",
   "mimetype": "text/x-python",
   "name": "python",
   "nbconvert_exporter": "python",
   "pygments_lexer": "ipython3",
   "version": "3.8.5"
  },
  "orig_nbformat": 4
 },
 "nbformat": 4,
 "nbformat_minor": 2
}